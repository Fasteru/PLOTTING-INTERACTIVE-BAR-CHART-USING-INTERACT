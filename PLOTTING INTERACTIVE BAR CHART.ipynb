{
 "cells": [
  {
   "cell_type": "code",
   "execution_count": 72,
   "metadata": {},
   "outputs": [],
   "source": [
    "import pandas as pd \n",
    "import matplotlib as plt\n",
    "import ipywidgets as widgets\n",
    "from ipywidgets import *"
   ]
  },
  {
   "cell_type": "code",
   "execution_count": 73,
   "metadata": {},
   "outputs": [],
   "source": [
    "#OPENING DATA FILE"
   ]
  },
  {
   "cell_type": "code",
   "execution_count": 74,
   "metadata": {},
   "outputs": [
    {
     "data": {
      "text/html": [
       "<div>\n",
       "<style scoped>\n",
       "    .dataframe tbody tr th:only-of-type {\n",
       "        vertical-align: middle;\n",
       "    }\n",
       "\n",
       "    .dataframe tbody tr th {\n",
       "        vertical-align: top;\n",
       "    }\n",
       "\n",
       "    .dataframe thead th {\n",
       "        text-align: right;\n",
       "    }\n",
       "</style>\n",
       "<table border=\"1\" class=\"dataframe\">\n",
       "  <thead>\n",
       "    <tr style=\"text-align: right;\">\n",
       "      <th></th>\n",
       "      <th>S.no</th>\n",
       "      <th>Description of product</th>\n",
       "      <th>Quantity</th>\n",
       "      <th>date</th>\n",
       "      <th>Price</th>\n",
       "      <th>CSGST</th>\n",
       "      <th>SGST</th>\n",
       "      <th>Amount</th>\n",
       "      <th>Month</th>\n",
       "    </tr>\n",
       "  </thead>\n",
       "  <tbody>\n",
       "    <tr>\n",
       "      <th>0</th>\n",
       "      <td>1</td>\n",
       "      <td>Amaron flo 40b 20l</td>\n",
       "      <td>1</td>\n",
       "      <td>19-May-20</td>\n",
       "      <td>2929.68</td>\n",
       "      <td>410.15</td>\n",
       "      <td>410.15</td>\n",
       "      <td>3750.00</td>\n",
       "      <td>may</td>\n",
       "    </tr>\n",
       "    <tr>\n",
       "      <th>1</th>\n",
       "      <td>2</td>\n",
       "      <td>Amaze battrey 2048tt</td>\n",
       "      <td>1</td>\n",
       "      <td>19-May-20</td>\n",
       "      <td>8281.25</td>\n",
       "      <td>1159.37</td>\n",
       "      <td>1159.37</td>\n",
       "      <td>10599.99</td>\n",
       "      <td>may</td>\n",
       "    </tr>\n",
       "    <tr>\n",
       "      <th>2</th>\n",
       "      <td>3</td>\n",
       "      <td>microtek invertor eb-7wva</td>\n",
       "      <td>1</td>\n",
       "      <td>19-May-20</td>\n",
       "      <td>2118.64</td>\n",
       "      <td>190.67</td>\n",
       "      <td>190.67</td>\n",
       "      <td>2499.98</td>\n",
       "      <td>may</td>\n",
       "    </tr>\n",
       "    <tr>\n",
       "      <th>3</th>\n",
       "      <td>4</td>\n",
       "      <td>microtek invertor eb-7wva</td>\n",
       "      <td>1</td>\n",
       "      <td>19-May-20</td>\n",
       "      <td>2288.13</td>\n",
       "      <td>205.73</td>\n",
       "      <td>205.73</td>\n",
       "      <td>2699.59</td>\n",
       "      <td>may</td>\n",
       "    </tr>\n",
       "    <tr>\n",
       "      <th>4</th>\n",
       "      <td>5</td>\n",
       "      <td>Amaron flo 40b 20l</td>\n",
       "      <td>1</td>\n",
       "      <td>22-May-20</td>\n",
       "      <td>2500.00</td>\n",
       "      <td>350.00</td>\n",
       "      <td>350.00</td>\n",
       "      <td>3200.00</td>\n",
       "      <td>may</td>\n",
       "    </tr>\n",
       "  </tbody>\n",
       "</table>\n",
       "</div>"
      ],
      "text/plain": [
       "   S.no     Description of product  Quantity       date    Price    CSGST  \\\n",
       "0     1         Amaron flo 40b 20l         1  19-May-20  2929.68   410.15   \n",
       "1     2       Amaze battrey 2048tt         1  19-May-20  8281.25  1159.37   \n",
       "2     3  microtek invertor eb-7wva         1  19-May-20  2118.64   190.67   \n",
       "3     4  microtek invertor eb-7wva         1  19-May-20  2288.13   205.73   \n",
       "4     5         Amaron flo 40b 20l         1  22-May-20  2500.00   350.00   \n",
       "\n",
       "      SGST    Amount Month  \n",
       "0   410.15   3750.00   may  \n",
       "1  1159.37  10599.99   may  \n",
       "2   190.67   2499.98   may  \n",
       "3   205.73   2699.59   may  \n",
       "4   350.00   3200.00   may  "
      ]
     },
     "execution_count": 74,
     "metadata": {},
     "output_type": "execute_result"
    }
   ],
   "source": [
    "df = pd.read_csv('hari batteries.csv')\n",
    "df.head()"
   ]
  },
  {
   "cell_type": "code",
   "execution_count": 75,
   "metadata": {},
   "outputs": [],
   "source": [
    "#popping the usefull columns of the original dataframe to make a new dataframe"
   ]
  },
  {
   "cell_type": "code",
   "execution_count": 76,
   "metadata": {},
   "outputs": [],
   "source": [
    "df1 = df.pop('Description of product')\n",
    "df2 = df.pop('Month')\n",
    "df3=df.pop('Amount')"
   ]
  },
  {
   "cell_type": "code",
   "execution_count": 77,
   "metadata": {},
   "outputs": [
    {
     "data": {
      "text/html": [
       "<div>\n",
       "<style scoped>\n",
       "    .dataframe tbody tr th:only-of-type {\n",
       "        vertical-align: middle;\n",
       "    }\n",
       "\n",
       "    .dataframe tbody tr th {\n",
       "        vertical-align: top;\n",
       "    }\n",
       "\n",
       "    .dataframe thead th {\n",
       "        text-align: right;\n",
       "    }\n",
       "</style>\n",
       "<table border=\"1\" class=\"dataframe\">\n",
       "  <thead>\n",
       "    <tr style=\"text-align: right;\">\n",
       "      <th></th>\n",
       "      <th>Description of product</th>\n",
       "      <th>Month</th>\n",
       "      <th>Amount</th>\n",
       "    </tr>\n",
       "  </thead>\n",
       "  <tbody>\n",
       "    <tr>\n",
       "      <th>0</th>\n",
       "      <td>Amaron flo 40b 20l</td>\n",
       "      <td>may</td>\n",
       "      <td>3750.00</td>\n",
       "    </tr>\n",
       "    <tr>\n",
       "      <th>1</th>\n",
       "      <td>Amaze battrey 2048tt</td>\n",
       "      <td>may</td>\n",
       "      <td>10599.99</td>\n",
       "    </tr>\n",
       "    <tr>\n",
       "      <th>2</th>\n",
       "      <td>microtek invertor eb-7wva</td>\n",
       "      <td>may</td>\n",
       "      <td>2499.98</td>\n",
       "    </tr>\n",
       "    <tr>\n",
       "      <th>3</th>\n",
       "      <td>microtek invertor eb-7wva</td>\n",
       "      <td>may</td>\n",
       "      <td>2699.59</td>\n",
       "    </tr>\n",
       "    <tr>\n",
       "      <th>4</th>\n",
       "      <td>Amaron flo 40b 20l</td>\n",
       "      <td>may</td>\n",
       "      <td>3200.00</td>\n",
       "    </tr>\n",
       "  </tbody>\n",
       "</table>\n",
       "</div>"
      ],
      "text/plain": [
       "      Description of product Month    Amount\n",
       "0         Amaron flo 40b 20l   may   3750.00\n",
       "1       Amaze battrey 2048tt   may  10599.99\n",
       "2  microtek invertor eb-7wva   may   2499.98\n",
       "3  microtek invertor eb-7wva   may   2699.59\n",
       "4         Amaron flo 40b 20l   may   3200.00"
      ]
     },
     "execution_count": 77,
     "metadata": {},
     "output_type": "execute_result"
    }
   ],
   "source": [
    "df4 = pd.concat([df1,df2], axis=1)\n",
    "new_df = pd.concat([df4,df3], axis=1)\n",
    "new_df.head()"
   ]
  },
  {
   "cell_type": "code",
   "execution_count": 78,
   "metadata": {},
   "outputs": [
    {
     "data": {
      "text/html": [
       "<div>\n",
       "<style scoped>\n",
       "    .dataframe tbody tr th:only-of-type {\n",
       "        vertical-align: middle;\n",
       "    }\n",
       "\n",
       "    .dataframe tbody tr th {\n",
       "        vertical-align: top;\n",
       "    }\n",
       "\n",
       "    .dataframe thead th {\n",
       "        text-align: right;\n",
       "    }\n",
       "</style>\n",
       "<table border=\"1\" class=\"dataframe\">\n",
       "  <thead>\n",
       "    <tr style=\"text-align: right;\">\n",
       "      <th></th>\n",
       "      <th></th>\n",
       "      <th>Amount</th>\n",
       "    </tr>\n",
       "    <tr>\n",
       "      <th>Description of product</th>\n",
       "      <th>Month</th>\n",
       "      <th></th>\n",
       "    </tr>\n",
       "  </thead>\n",
       "  <tbody>\n",
       "    <tr>\n",
       "      <th rowspan=\"5\" valign=\"top\">Amaron flo 40b 20l</th>\n",
       "      <th>aug</th>\n",
       "      <td>7499.96</td>\n",
       "    </tr>\n",
       "    <tr>\n",
       "      <th>jun</th>\n",
       "      <td>3699.98</td>\n",
       "    </tr>\n",
       "    <tr>\n",
       "      <th>may</th>\n",
       "      <td>6950.00</td>\n",
       "    </tr>\n",
       "    <tr>\n",
       "      <th>nov</th>\n",
       "      <td>4000.00</td>\n",
       "    </tr>\n",
       "    <tr>\n",
       "      <th>oct</th>\n",
       "      <td>7399.96</td>\n",
       "    </tr>\n",
       "  </tbody>\n",
       "</table>\n",
       "</div>"
      ],
      "text/plain": [
       "                               Amount\n",
       "Description of product Month         \n",
       "Amaron flo 40b 20l     aug    7499.96\n",
       "                       jun    3699.98\n",
       "                       may    6950.00\n",
       "                       nov    4000.00\n",
       "                       oct    7399.96"
      ]
     },
     "execution_count": 78,
     "metadata": {},
     "output_type": "execute_result"
    }
   ],
   "source": [
    "group = new_df.groupby(['Description of product','Month']).sum()\n",
    "group.head()"
   ]
  },
  {
   "cell_type": "code",
   "execution_count": 79,
   "metadata": {},
   "outputs": [
    {
     "data": {
      "text/html": [
       "<div>\n",
       "<style scoped>\n",
       "    .dataframe tbody tr th:only-of-type {\n",
       "        vertical-align: middle;\n",
       "    }\n",
       "\n",
       "    .dataframe tbody tr th {\n",
       "        vertical-align: top;\n",
       "    }\n",
       "\n",
       "    .dataframe thead th {\n",
       "        text-align: right;\n",
       "    }\n",
       "</style>\n",
       "<table border=\"1\" class=\"dataframe\">\n",
       "  <thead>\n",
       "    <tr style=\"text-align: right;\">\n",
       "      <th></th>\n",
       "      <th>Description of product</th>\n",
       "      <th>Month</th>\n",
       "      <th>Amount</th>\n",
       "    </tr>\n",
       "  </thead>\n",
       "  <tbody>\n",
       "    <tr>\n",
       "      <th>0</th>\n",
       "      <td>Amaron flo 40b 20l</td>\n",
       "      <td>aug</td>\n",
       "      <td>7499.96</td>\n",
       "    </tr>\n",
       "    <tr>\n",
       "      <th>1</th>\n",
       "      <td>Amaron flo 40b 20l</td>\n",
       "      <td>jun</td>\n",
       "      <td>3699.98</td>\n",
       "    </tr>\n",
       "    <tr>\n",
       "      <th>2</th>\n",
       "      <td>Amaron flo 40b 20l</td>\n",
       "      <td>may</td>\n",
       "      <td>6950.00</td>\n",
       "    </tr>\n",
       "    <tr>\n",
       "      <th>3</th>\n",
       "      <td>Amaron flo 40b 20l</td>\n",
       "      <td>nov</td>\n",
       "      <td>4000.00</td>\n",
       "    </tr>\n",
       "    <tr>\n",
       "      <th>4</th>\n",
       "      <td>Amaron flo 40b 20l</td>\n",
       "      <td>oct</td>\n",
       "      <td>7399.96</td>\n",
       "    </tr>\n",
       "  </tbody>\n",
       "</table>\n",
       "</div>"
      ],
      "text/plain": [
       "  Description of product Month   Amount\n",
       "0     Amaron flo 40b 20l   aug  7499.96\n",
       "1     Amaron flo 40b 20l   jun  3699.98\n",
       "2     Amaron flo 40b 20l   may  6950.00\n",
       "3     Amaron flo 40b 20l   nov  4000.00\n",
       "4     Amaron flo 40b 20l   oct  7399.96"
      ]
     },
     "execution_count": 79,
     "metadata": {},
     "output_type": "execute_result"
    }
   ],
   "source": [
    "reset = group.reset_index()\n",
    "reset.head()"
   ]
  },
  {
   "cell_type": "code",
   "execution_count": 80,
   "metadata": {},
   "outputs": [],
   "source": [
    "# plotting an interactive bar chart of the new dataframe"
   ]
  },
  {
   "cell_type": "code",
   "execution_count": 81,
   "metadata": {},
   "outputs": [
    {
     "data": {
      "application/vnd.jupyter.widget-view+json": {
       "model_id": "4667112a5d034ef380019e6b305dcd32",
       "version_major": 2,
       "version_minor": 0
      },
      "text/plain": [
       "interactive(children=(Dropdown(description='Products', options=('Amaron flo 40b 20l', 'Amaze battrey 2048tt', …"
      ]
     },
     "metadata": {},
     "output_type": "display_data"
    }
   ],
   "source": [
    "@interact\n",
    "\n",
    "def bar_plot( Products = sorted(reset['Description of product'].unique())):\n",
    "    return reset[reset['Description of product'] == Products].set_index('Month').plot(kind ='bar', title=Products, fontsize =10, color='red')\n",
    "\n"
   ]
  },
  {
   "cell_type": "code",
   "execution_count": null,
   "metadata": {},
   "outputs": [],
   "source": []
  }
 ],
 "metadata": {
  "kernelspec": {
   "display_name": "Python 3",
   "language": "python",
   "name": "python3"
  },
  "language_info": {
   "codemirror_mode": {
    "name": "ipython",
    "version": 3
   },
   "file_extension": ".py",
   "mimetype": "text/x-python",
   "name": "python",
   "nbconvert_exporter": "python",
   "pygments_lexer": "ipython3",
   "version": "3.6.4"
  }
 },
 "nbformat": 4,
 "nbformat_minor": 4
}
